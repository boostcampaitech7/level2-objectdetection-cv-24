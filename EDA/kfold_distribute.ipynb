{
 "cells": [
  {
   "cell_type": "markdown",
   "metadata": {},
   "source": [
    "# 1. Import library"
   ]
  },
  {
   "cell_type": "code",
   "execution_count": 81,
   "metadata": {},
   "outputs": [],
   "source": [
    "import os\n",
    "import json\n",
    "import pandas as pd\n",
    "import numpy as np\n",
    "from collections import defaultdict, Counter\n",
    "from pycocotools.coco import COCO"
   ]
  },
  {
   "cell_type": "markdown",
   "metadata": {},
   "source": [
    "# 2. Check duplicate"
   ]
  },
  {
   "cell_type": "code",
   "execution_count": 179,
   "metadata": {},
   "outputs": [],
   "source": [
    "BASE_DIR = './kfold/'\n",
    "\n",
    "def check_duplicate_images(fold = int):\n",
    "    for i in range(fold):\n",
    "        train_json_dir = os.path.join(BASE_DIR, 'fold_' + str(i) + '_train.json')\n",
    "        val_json_dir = os.path.join(BASE_DIR, 'fold_' + str(i) + '_val.json')\n",
    "\n",
    "        coco_train =  COCO(train_json_dir)\n",
    "        coco_val = COCO(val_json_dir)\n",
    "\n",
    "        train_imgs = []\n",
    "        val_imgs = []\n",
    "\n",
    "        for ann_id in coco_train.getAnnIds():\n",
    "            train_img_id = coco_train.loadAnns(ann_id)[0]['image_id']\n",
    "            if train_img_id not in train_imgs:\n",
    "                train_imgs.append(train_img_id)\n",
    "\n",
    "        for ann_id in coco_val.getAnnIds():\n",
    "            val_img_id = coco_val.loadAnns(ann_id)[0]['image_id']\n",
    "            if val_img_id not in val_imgs:\n",
    "                val_imgs.append(val_img_id)\n",
    "\n",
    "        train_imgs = set(train_imgs)\n",
    "        val_imgs = set(val_imgs)\n",
    "\n",
    "        train_imgs_num = len(train_imgs)\n",
    "        val_imgs_num = len(val_imgs)\n",
    "\n",
    "        if not train_imgs & val_imgs:\n",
    "            print('\\n'f'🎈Check duplicate fold {i} images: Success!''\\n')\n",
    "            print(f'✨train imgs: {train_imgs_num}개 ({float(100 * train_imgs_num / (train_imgs_num + val_imgs_num)):.2f}%)')\n",
    "            print(f'✨val imgs: {val_imgs_num}개 ({float(100 * val_imgs_num / (train_imgs_num + val_imgs_num)):.2f}%)')\n",
    "            print(f'✨total imgs: {train_imgs_num + val_imgs_num}개''\\n')\n",
    "\n",
    "        else:\n",
    "            print('\\n'f'🎈Check duplicate fold {i} images: Fail''\\n')\n",
    "            print(f'✨train imgs: {train_imgs_num}개 ({float(100 * train_imgs_num / (train_imgs_num + val_imgs_num)):.2f}%)')\n",
    "            print(f'✨val imgs: {val_imgs_num}개 ({float(100 * val_imgs_num / (train_imgs_num + val_imgs_num)):.2f}%)')\n",
    "            print(f'✨total imgs: {train_imgs_num + val_imgs_num}개''\\n')"
   ]
  },
  {
   "cell_type": "markdown",
   "metadata": {},
   "source": [
    "# 3. Run"
   ]
  },
  {
   "cell_type": "code",
   "execution_count": 180,
   "metadata": {},
   "outputs": [
    {
     "name": "stdout",
     "output_type": "stream",
     "text": [
      "loading annotations into memory...\n",
      "Done (t=0.08s)\n",
      "creating index...\n",
      "index created!\n",
      "loading annotations into memory...\n",
      "Done (t=0.01s)\n",
      "creating index...\n",
      "index created!\n",
      "\n",
      "🎈Check duplicate fold 0 images: Success!\n",
      "\n",
      "✨train imgs: 3908개 (80.03%)\n",
      "✨val imgs: 975개 (19.97%)\n",
      "✨total imgs: 4883개\n",
      "\n",
      "loading annotations into memory...\n",
      "Done (t=0.07s)\n",
      "creating index...\n",
      "index created!\n",
      "loading annotations into memory...\n",
      "Done (t=0.03s)\n",
      "creating index...\n",
      "index created!\n",
      "\n",
      "🎈Check duplicate fold 1 images: Success!\n",
      "\n",
      "✨train imgs: 3907개 (80.01%)\n",
      "✨val imgs: 976개 (19.99%)\n",
      "✨total imgs: 4883개\n",
      "\n",
      "loading annotations into memory...\n",
      "Done (t=0.06s)\n",
      "creating index...\n",
      "index created!\n",
      "loading annotations into memory...\n",
      "Done (t=0.02s)\n",
      "creating index...\n",
      "index created!\n",
      "\n",
      "🎈Check duplicate fold 2 images: Success!\n",
      "\n",
      "✨train imgs: 3903개 (79.93%)\n",
      "✨val imgs: 980개 (20.07%)\n",
      "✨total imgs: 4883개\n",
      "\n",
      "loading annotations into memory...\n",
      "Done (t=0.06s)\n",
      "creating index...\n",
      "index created!\n",
      "loading annotations into memory...\n",
      "Done (t=0.02s)\n",
      "creating index...\n",
      "index created!\n",
      "\n",
      "🎈Check duplicate fold 3 images: Success!\n",
      "\n",
      "✨train imgs: 3900개 (79.87%)\n",
      "✨val imgs: 983개 (20.13%)\n",
      "✨total imgs: 4883개\n",
      "\n",
      "loading annotations into memory...\n",
      "Done (t=0.07s)\n",
      "creating index...\n",
      "index created!\n",
      "loading annotations into memory...\n",
      "Done (t=0.02s)\n",
      "creating index...\n",
      "index created!\n",
      "\n",
      "🎈Check duplicate fold 4 images: Success!\n",
      "\n",
      "✨train imgs: 3914개 (80.16%)\n",
      "✨val imgs: 969개 (19.84%)\n",
      "✨total imgs: 4883개\n",
      "\n"
     ]
    }
   ],
   "source": [
    "check_duplicate_images(fold=5)"
   ]
  },
  {
   "cell_type": "markdown",
   "metadata": {},
   "source": [
    "# 4. Check class distribuition"
   ]
  },
  {
   "cell_type": "code",
   "execution_count": 176,
   "metadata": {},
   "outputs": [],
   "source": [
    "BASE_DIR = './kfold/'\n",
    "ann_dir = './dataset/train.json'\n",
    "\n",
    "with open(ann_dir) as f:\n",
    "    _annotations = json.load(f)\n",
    "\n",
    "# Convert category_id(int) to classes(name)\n",
    "classes = [d['name'] for d in _annotations['categories']]\n",
    "\n",
    "def get_distribution(x:list, y:int):\n",
    "    return [x[i]/y for i in range(len(x))]\n",
    "\n",
    "def check_class_distribution(fold):\n",
    "    kfold_distribution = pd.DataFrame()\n",
    "\n",
    "    for i in range(fold):\n",
    "        train_json_dir = os.path.join(BASE_DIR, 'fold_' + str(i) + '_train.json')\n",
    "        val_json_dir = os.path.join(BASE_DIR, 'fold_' + str(i) + '_val.json')\n",
    "\n",
    "        with open(train_json_dir) as f:\n",
    "            _kfold_train = json.load(f)\n",
    "\n",
    "        with open(val_json_dir) as f:\n",
    "            _kfold_val = json.load(f)\n",
    "\n",
    "        train_class_count = []\n",
    "        val_class_count = []\n",
    "\n",
    "        # train dataset의 class total\n",
    "        for _trian_id in _kfold_train['annotations']:\n",
    "            train_class_count.append(classes[_trian_id['category_id']])\n",
    "\n",
    "        train_class_num = Counter(train_class_count)\n",
    "        train_total = len(train_class_count)\n",
    "\n",
    "        # val dataset의 class total\n",
    "        for _val_id in _kfold_val['annotations']:\n",
    "            val_class_count.append(classes[_val_id['category_id']])\n",
    "\n",
    "        val_class_num = Counter(val_class_count)\n",
    "        val_total = len(val_class_count)\n",
    "\n",
    "        train_dist, val_dist = defaultdict(float), defaultdict(float)\n",
    "\n",
    "        for keys in train_class_num.keys():\n",
    "            train_dist[keys] = f'{float(100 * train_class_num[keys] / train_total):.2f}%'\n",
    "            val_dist[keys] = f'{float(100 * val_class_num[keys] / val_total):.2f}%'\n",
    "\n",
    "        # DataFrame에 추가\n",
    "        kfold_distribution[f'Fold_{i}_Train'] = pd.Series(train_dist)\n",
    "        kfold_distribution[f'Fold_{i}_Val'] = pd.Series(val_dist)\n",
    "\n",
    "    return kfold_distribution.T"
   ]
  },
  {
   "cell_type": "code",
   "execution_count": 177,
   "metadata": {},
   "outputs": [
    {
     "data": {
      "text/html": [
       "<div>\n",
       "<style scoped>\n",
       "    .dataframe tbody tr th:only-of-type {\n",
       "        vertical-align: middle;\n",
       "    }\n",
       "\n",
       "    .dataframe tbody tr th {\n",
       "        vertical-align: top;\n",
       "    }\n",
       "\n",
       "    .dataframe thead th {\n",
       "        text-align: right;\n",
       "    }\n",
       "</style>\n",
       "<table border=\"1\" class=\"dataframe\">\n",
       "  <thead>\n",
       "    <tr style=\"text-align: right;\">\n",
       "      <th></th>\n",
       "      <th>General trash</th>\n",
       "      <th>Metal</th>\n",
       "      <th>Plastic bag</th>\n",
       "      <th>Glass</th>\n",
       "      <th>Plastic</th>\n",
       "      <th>Paper pack</th>\n",
       "      <th>Styrofoam</th>\n",
       "      <th>Paper</th>\n",
       "      <th>Clothing</th>\n",
       "      <th>Battery</th>\n",
       "    </tr>\n",
       "  </thead>\n",
       "  <tbody>\n",
       "    <tr>\n",
       "      <th>Fold_0_Train</th>\n",
       "      <td>17.48%</td>\n",
       "      <td>3.93%</td>\n",
       "      <td>22.57%</td>\n",
       "      <td>4.38%</td>\n",
       "      <td>12.46%</td>\n",
       "      <td>3.76%</td>\n",
       "      <td>5.44%</td>\n",
       "      <td>27.48%</td>\n",
       "      <td>1.80%</td>\n",
       "      <td>0.70%</td>\n",
       "    </tr>\n",
       "    <tr>\n",
       "      <th>Fold_0_Val</th>\n",
       "      <td>15.66%</td>\n",
       "      <td>4.54%</td>\n",
       "      <td>21.52%</td>\n",
       "      <td>3.64%</td>\n",
       "      <td>13.81%</td>\n",
       "      <td>4.38%</td>\n",
       "      <td>5.54%</td>\n",
       "      <td>27.28%</td>\n",
       "      <td>2.98%</td>\n",
       "      <td>0.65%</td>\n",
       "    </tr>\n",
       "    <tr>\n",
       "      <th>Fold_1_Train</th>\n",
       "      <td>17.38%</td>\n",
       "      <td>4.37%</td>\n",
       "      <td>22.28%</td>\n",
       "      <td>4.03%</td>\n",
       "      <td>12.95%</td>\n",
       "      <td>3.96%</td>\n",
       "      <td>5.65%</td>\n",
       "      <td>26.57%</td>\n",
       "      <td>2.19%</td>\n",
       "      <td>0.63%</td>\n",
       "    </tr>\n",
       "    <tr>\n",
       "      <th>Fold_1_Val</th>\n",
       "      <td>16.28%</td>\n",
       "      <td>2.89%</td>\n",
       "      <td>22.70%</td>\n",
       "      <td>4.99%</td>\n",
       "      <td>11.90%</td>\n",
       "      <td>3.59%</td>\n",
       "      <td>4.77%</td>\n",
       "      <td>30.56%</td>\n",
       "      <td>1.43%</td>\n",
       "      <td>0.88%</td>\n",
       "    </tr>\n",
       "    <tr>\n",
       "      <th>Fold_2_Train</th>\n",
       "      <td>17.05%</td>\n",
       "      <td>4.07%</td>\n",
       "      <td>22.74%</td>\n",
       "      <td>4.07%</td>\n",
       "      <td>13.04%</td>\n",
       "      <td>3.98%</td>\n",
       "      <td>5.37%</td>\n",
       "      <td>27.15%</td>\n",
       "      <td>1.95%</td>\n",
       "      <td>0.57%</td>\n",
       "    </tr>\n",
       "    <tr>\n",
       "      <th>Fold_2_Val</th>\n",
       "      <td>17.49%</td>\n",
       "      <td>3.93%</td>\n",
       "      <td>20.93%</td>\n",
       "      <td>4.91%</td>\n",
       "      <td>11.43%</td>\n",
       "      <td>3.48%</td>\n",
       "      <td>5.80%</td>\n",
       "      <td>28.60%</td>\n",
       "      <td>2.29%</td>\n",
       "      <td>1.13%</td>\n",
       "    </tr>\n",
       "    <tr>\n",
       "      <th>Fold_3_Train</th>\n",
       "      <td>17.06%</td>\n",
       "      <td>3.83%</td>\n",
       "      <td>22.27%</td>\n",
       "      <td>4.40%</td>\n",
       "      <td>12.38%</td>\n",
       "      <td>3.86%</td>\n",
       "      <td>5.23%</td>\n",
       "      <td>28.15%</td>\n",
       "      <td>2.08%</td>\n",
       "      <td>0.74%</td>\n",
       "    </tr>\n",
       "    <tr>\n",
       "      <th>Fold_3_Val</th>\n",
       "      <td>17.46%</td>\n",
       "      <td>4.90%</td>\n",
       "      <td>22.77%</td>\n",
       "      <td>3.61%</td>\n",
       "      <td>14.09%</td>\n",
       "      <td>3.94%</td>\n",
       "      <td>6.37%</td>\n",
       "      <td>24.59%</td>\n",
       "      <td>1.79%</td>\n",
       "      <td>0.48%</td>\n",
       "    </tr>\n",
       "    <tr>\n",
       "      <th>Fold_4_Train</th>\n",
       "      <td>16.73%</td>\n",
       "      <td>4.03%</td>\n",
       "      <td>22.00%</td>\n",
       "      <td>4.32%</td>\n",
       "      <td>12.76%</td>\n",
       "      <td>3.83%</td>\n",
       "      <td>5.60%</td>\n",
       "      <td>27.85%</td>\n",
       "      <td>2.10%</td>\n",
       "      <td>0.79%</td>\n",
       "    </tr>\n",
       "    <tr>\n",
       "      <th>Fold_4_Val</th>\n",
       "      <td>18.86%</td>\n",
       "      <td>4.12%</td>\n",
       "      <td>23.95%</td>\n",
       "      <td>3.92%</td>\n",
       "      <td>12.53%</td>\n",
       "      <td>4.05%</td>\n",
       "      <td>4.87%</td>\n",
       "      <td>25.75%</td>\n",
       "      <td>1.71%</td>\n",
       "      <td>0.25%</td>\n",
       "    </tr>\n",
       "  </tbody>\n",
       "</table>\n",
       "</div>"
      ],
      "text/plain": [
       "             General trash  Metal Plastic bag  Glass Plastic Paper pack  \\\n",
       "Fold_0_Train        17.48%  3.93%      22.57%  4.38%  12.46%      3.76%   \n",
       "Fold_0_Val          15.66%  4.54%      21.52%  3.64%  13.81%      4.38%   \n",
       "Fold_1_Train        17.38%  4.37%      22.28%  4.03%  12.95%      3.96%   \n",
       "Fold_1_Val          16.28%  2.89%      22.70%  4.99%  11.90%      3.59%   \n",
       "Fold_2_Train        17.05%  4.07%      22.74%  4.07%  13.04%      3.98%   \n",
       "Fold_2_Val          17.49%  3.93%      20.93%  4.91%  11.43%      3.48%   \n",
       "Fold_3_Train        17.06%  3.83%      22.27%  4.40%  12.38%      3.86%   \n",
       "Fold_3_Val          17.46%  4.90%      22.77%  3.61%  14.09%      3.94%   \n",
       "Fold_4_Train        16.73%  4.03%      22.00%  4.32%  12.76%      3.83%   \n",
       "Fold_4_Val          18.86%  4.12%      23.95%  3.92%  12.53%      4.05%   \n",
       "\n",
       "             Styrofoam   Paper Clothing Battery  \n",
       "Fold_0_Train     5.44%  27.48%    1.80%   0.70%  \n",
       "Fold_0_Val       5.54%  27.28%    2.98%   0.65%  \n",
       "Fold_1_Train     5.65%  26.57%    2.19%   0.63%  \n",
       "Fold_1_Val       4.77%  30.56%    1.43%   0.88%  \n",
       "Fold_2_Train     5.37%  27.15%    1.95%   0.57%  \n",
       "Fold_2_Val       5.80%  28.60%    2.29%   1.13%  \n",
       "Fold_3_Train     5.23%  28.15%    2.08%   0.74%  \n",
       "Fold_3_Val       6.37%  24.59%    1.79%   0.48%  \n",
       "Fold_4_Train     5.60%  27.85%    2.10%   0.79%  \n",
       "Fold_4_Val       4.87%  25.75%    1.71%   0.25%  "
      ]
     },
     "execution_count": 177,
     "metadata": {},
     "output_type": "execute_result"
    }
   ],
   "source": [
    "check_class_distribution(fold = 5)"
   ]
  },
  {
   "cell_type": "markdown",
   "metadata": {},
   "source": [
    "# ..."
   ]
  },
  {
   "cell_type": "code",
   "execution_count": 178,
   "metadata": {},
   "outputs": [
    {
     "name": "stdout",
     "output_type": "stream",
     "text": [
      "loading annotations into memory...\n",
      "Done (t=0.07s)\n",
      "creating index...\n",
      "index created!\n"
     ]
    },
    {
     "data": {
      "text/plain": [
       "{'image_id': 0,\n",
       " 'category_id': 0,\n",
       " 'area': 257301.66,\n",
       " 'bbox': [197.6, 193.7, 547.8, 469.7],\n",
       " 'iscrowd': 0,\n",
       " 'id': 0}"
      ]
     },
     "execution_count": 178,
     "metadata": {},
     "output_type": "execute_result"
    }
   ],
   "source": [
    "coco_train =  COCO('./kfold/fold_0_train.json')\n",
    "ann_id = coco_train.getAnnIds()\n",
    "type(ann_id[0])\n",
    "train_img_id = coco_train.loadAnns(ann_id[0])\n",
    "train_img_id[0]"
   ]
  },
  {
   "cell_type": "code",
   "execution_count": 87,
   "metadata": {},
   "outputs": [
    {
     "data": {
      "text/plain": [
       "Counter({'Paper': 6352,\n",
       "         'Plastic bag': 5178,\n",
       "         'General trash': 3966,\n",
       "         'Plastic': 2943,\n",
       "         'Styrofoam': 1263,\n",
       "         'Glass': 982,\n",
       "         'Metal': 936,\n",
       "         'Paper pack': 897,\n",
       "         'Clothing': 468,\n",
       "         'Battery': 159})"
      ]
     },
     "execution_count": 87,
     "metadata": {},
     "output_type": "execute_result"
    }
   ],
   "source": [
    "class_count = []\n",
    "\n",
    "for i in _annotations['annotations']:\n",
    "    class_count.append(classes[i['category_id']])\n",
    "\n",
    "class_total = Counter(class_count)\n",
    "class_total"
   ]
  },
  {
   "cell_type": "code",
   "execution_count": 71,
   "metadata": {},
   "outputs": [
    {
     "name": "stdout",
     "output_type": "stream",
     "text": [
      "loading annotations into memory...\n",
      "Done (t=0.13s)\n",
      "creating index...\n",
      "index created!\n"
     ]
    },
    {
     "data": {
      "text/plain": [
       "23144"
      ]
     },
     "execution_count": 71,
     "metadata": {},
     "output_type": "execute_result"
    }
   ],
   "source": [
    "len(COCO('./dataset/train.json').getAnnIds())"
   ]
  },
  {
   "cell_type": "code",
   "execution_count": 62,
   "metadata": {},
   "outputs": [
    {
     "data": {
      "text/plain": [
       "['General trash',\n",
       " 'Paper',\n",
       " 'Paper pack',\n",
       " 'Metal',\n",
       " 'Glass',\n",
       " 'Plastic',\n",
       " 'Styrofoam',\n",
       " 'Plastic bag',\n",
       " 'Battery',\n",
       " 'Clothing']"
      ]
     },
     "execution_count": 62,
     "metadata": {},
     "output_type": "execute_result"
    }
   ],
   "source": [
    "ann_dir = './dataset/train.json'\n",
    "\n",
    "with open(ann_dir) as f:\n",
    "    _annotations = json.load(f)\n",
    "\n",
    "classes = [d['name'] for d in _annotations['categories']]\n"
   ]
  }
 ],
 "metadata": {
  "kernelspec": {
   "display_name": "venv",
   "language": "python",
   "name": "python3"
  },
  "language_info": {
   "codemirror_mode": {
    "name": "ipython",
    "version": 3
   },
   "file_extension": ".py",
   "mimetype": "text/x-python",
   "name": "python",
   "nbconvert_exporter": "python",
   "pygments_lexer": "ipython3",
   "version": "3.12.4"
  }
 },
 "nbformat": 4,
 "nbformat_minor": 2
}
