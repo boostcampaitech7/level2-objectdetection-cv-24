{
 "cells": [
  {
   "cell_type": "code",
   "execution_count": 2,
   "metadata": {},
   "outputs": [
    {
     "name": "stdout",
     "output_type": "stream",
     "text": [
      "Collecting pandas\n",
      "  Downloading pandas-2.2.3-cp312-cp312-win_amd64.whl.metadata (19 kB)\n",
      "Collecting numpy>=1.26.0 (from pandas)\n",
      "  Downloading numpy-2.1.2-cp312-cp312-win_amd64.whl.metadata (59 kB)\n",
      "     ---------------------------------------- 0.0/59.7 kB ? eta -:--:--\n",
      "     ---------------------------------------- 0.0/59.7 kB ? eta -:--:--\n",
      "     ---------------------------------- ----- 51.2/59.7 kB 1.3 MB/s eta 0:00:01\n",
      "     ---------------------------------------- 59.7/59.7 kB 1.1 MB/s eta 0:00:00\n",
      "Requirement already satisfied: python-dateutil>=2.8.2 in c:\\users\\투정\\appdata\\roaming\\python\\python312\\site-packages (from pandas) (2.9.0.post0)\n",
      "Collecting pytz>=2020.1 (from pandas)\n",
      "  Downloading pytz-2024.2-py2.py3-none-any.whl.metadata (22 kB)\n",
      "Collecting tzdata>=2022.7 (from pandas)\n",
      "  Downloading tzdata-2024.2-py2.py3-none-any.whl.metadata (1.4 kB)\n",
      "Requirement already satisfied: six>=1.5 in c:\\users\\투정\\appdata\\roaming\\python\\python312\\site-packages (from python-dateutil>=2.8.2->pandas) (1.16.0)\n",
      "Downloading pandas-2.2.3-cp312-cp312-win_amd64.whl (11.5 MB)\n",
      "   ---------------------------------------- 0.0/11.5 MB ? eta -:--:--\n",
      "   ---------------------------------------- 0.0/11.5 MB 1.4 MB/s eta 0:00:09\n",
      "    --------------------------------------- 0.2/11.5 MB 3.8 MB/s eta 0:00:03\n",
      "   -- ------------------------------------- 0.7/11.5 MB 5.9 MB/s eta 0:00:02\n",
      "   --- ------------------------------------ 1.0/11.5 MB 6.6 MB/s eta 0:00:02\n",
      "   ----- ---------------------------------- 1.5/11.5 MB 7.4 MB/s eta 0:00:02\n",
      "   ------ --------------------------------- 1.9/11.5 MB 7.9 MB/s eta 0:00:02\n",
      "   ------- -------------------------------- 2.3/11.5 MB 7.6 MB/s eta 0:00:02\n",
      "   --------- ------------------------------ 2.7/11.5 MB 8.0 MB/s eta 0:00:02\n",
      "   ----------- ---------------------------- 3.2/11.5 MB 8.4 MB/s eta 0:00:01\n",
      "   ------------ --------------------------- 3.6/11.5 MB 8.6 MB/s eta 0:00:01\n",
      "   ------------- -------------------------- 4.0/11.5 MB 8.3 MB/s eta 0:00:01\n",
      "   --------------- ------------------------ 4.4/11.5 MB 8.3 MB/s eta 0:00:01\n",
      "   ---------------- ----------------------- 4.8/11.5 MB 8.5 MB/s eta 0:00:01\n",
      "   ----------------- ---------------------- 5.1/11.5 MB 8.3 MB/s eta 0:00:01\n",
      "   ------------------ --------------------- 5.4/11.5 MB 8.3 MB/s eta 0:00:01\n",
      "   -------------------- ------------------- 5.8/11.5 MB 8.2 MB/s eta 0:00:01\n",
      "   --------------------- ------------------ 6.2/11.5 MB 8.3 MB/s eta 0:00:01\n",
      "   ----------------------- ---------------- 6.7/11.5 MB 8.2 MB/s eta 0:00:01\n",
      "   ------------------------ --------------- 7.1/11.5 MB 8.5 MB/s eta 0:00:01\n",
      "   -------------------------- ------------- 7.5/11.5 MB 8.5 MB/s eta 0:00:01\n",
      "   --------------------------- ------------ 7.9/11.5 MB 8.5 MB/s eta 0:00:01\n",
      "   ---------------------------- ----------- 8.3/11.5 MB 8.4 MB/s eta 0:00:01\n",
      "   ----------------------------- ---------- 8.5/11.5 MB 8.4 MB/s eta 0:00:01\n",
      "   ------------------------------ --------- 8.8/11.5 MB 8.2 MB/s eta 0:00:01\n",
      "   -------------------------------- ------- 9.3/11.5 MB 8.3 MB/s eta 0:00:01\n",
      "   ---------------------------------- ----- 9.8/11.5 MB 8.4 MB/s eta 0:00:01\n",
      "   ----------------------------------- ---- 10.3/11.5 MB 8.5 MB/s eta 0:00:01\n",
      "   ------------------------------------- -- 10.8/11.5 MB 8.8 MB/s eta 0:00:01\n",
      "   ---------------------------------------  11.2/11.5 MB 8.8 MB/s eta 0:00:01\n",
      "   ---------------------------------------  11.5/11.5 MB 8.7 MB/s eta 0:00:01\n",
      "   ---------------------------------------- 11.5/11.5 MB 8.4 MB/s eta 0:00:00\n",
      "Downloading numpy-2.1.2-cp312-cp312-win_amd64.whl (12.6 MB)\n",
      "   ---------------------------------------- 0.0/12.6 MB ? eta -:--:--\n",
      "   - -------------------------------------- 0.5/12.6 MB 10.9 MB/s eta 0:00:02\n",
      "   --- ------------------------------------ 1.0/12.6 MB 10.5 MB/s eta 0:00:02\n",
      "   ---- ----------------------------------- 1.4/12.6 MB 11.2 MB/s eta 0:00:01\n",
      "   ----- ---------------------------------- 1.6/12.6 MB 10.4 MB/s eta 0:00:02\n",
      "   ------- -------------------------------- 2.4/12.6 MB 10.8 MB/s eta 0:00:01\n",
      "   --------- ------------------------------ 2.9/12.6 MB 10.7 MB/s eta 0:00:01\n",
      "   ---------- ----------------------------- 3.3/12.6 MB 10.5 MB/s eta 0:00:01\n",
      "   ----------- ---------------------------- 3.7/12.6 MB 10.3 MB/s eta 0:00:01\n",
      "   ------------- -------------------------- 4.4/12.6 MB 10.7 MB/s eta 0:00:01\n",
      "   --------------- ------------------------ 4.8/12.6 MB 10.6 MB/s eta 0:00:01\n",
      "   ---------------- ----------------------- 5.3/12.6 MB 10.5 MB/s eta 0:00:01\n",
      "   ----------------- ---------------------- 5.6/12.6 MB 10.2 MB/s eta 0:00:01\n",
      "   ------------------ --------------------- 5.9/12.6 MB 10.2 MB/s eta 0:00:01\n",
      "   -------------------- ------------------- 6.5/12.6 MB 10.1 MB/s eta 0:00:01\n",
      "   --------------------- ------------------ 6.9/12.6 MB 10.0 MB/s eta 0:00:01\n",
      "   ----------------------- ---------------- 7.3/12.6 MB 9.9 MB/s eta 0:00:01\n",
      "   ------------------------ --------------- 7.7/12.6 MB 9.9 MB/s eta 0:00:01\n",
      "   ------------------------- -------------- 8.1/12.6 MB 9.8 MB/s eta 0:00:01\n",
      "   --------------------------- ------------ 8.5/12.6 MB 9.7 MB/s eta 0:00:01\n",
      "   ---------------------------- ----------- 8.8/12.6 MB 9.7 MB/s eta 0:00:01\n",
      "   ----------------------------- ---------- 9.3/12.6 MB 9.6 MB/s eta 0:00:01\n",
      "   ------------------------------ --------- 9.5/12.6 MB 9.3 MB/s eta 0:00:01\n",
      "   ------------------------------- -------- 9.8/12.6 MB 9.2 MB/s eta 0:00:01\n",
      "   -------------------------------- ------- 10.2/12.6 MB 9.2 MB/s eta 0:00:01\n",
      "   --------------------------------- ------ 10.5/12.6 MB 9.1 MB/s eta 0:00:01\n",
      "   ---------------------------------- ----- 10.9/12.6 MB 9.0 MB/s eta 0:00:01\n",
      "   ------------------------------------ --- 11.4/12.6 MB 9.0 MB/s eta 0:00:01\n",
      "   ------------------------------------- -- 11.8/12.6 MB 9.0 MB/s eta 0:00:01\n",
      "   -------------------------------------- - 12.2/12.6 MB 9.0 MB/s eta 0:00:01\n",
      "   ---------------------------------------  12.6/12.6 MB 8.8 MB/s eta 0:00:01\n",
      "   ---------------------------------------  12.6/12.6 MB 8.8 MB/s eta 0:00:01\n",
      "   ---------------------------------------- 12.6/12.6 MB 8.2 MB/s eta 0:00:00\n",
      "Downloading pytz-2024.2-py2.py3-none-any.whl (508 kB)\n",
      "   ---------------------------------------- 0.0/508.0 kB ? eta -:--:--\n",
      "   --------------------------------- ------ 430.1/508.0 kB 8.9 MB/s eta 0:00:01\n",
      "   ---------------------------------------- 508.0/508.0 kB 8.0 MB/s eta 0:00:00\n",
      "Downloading tzdata-2024.2-py2.py3-none-any.whl (346 kB)\n",
      "   ---------------------------------------- 0.0/346.6 kB ? eta -:--:--\n",
      "   -------------------------------------- - 337.9/346.6 kB 7.0 MB/s eta 0:00:01\n",
      "   ---------------------------------------- 346.6/346.6 kB 5.4 MB/s eta 0:00:00\n",
      "Installing collected packages: pytz, tzdata, numpy, pandas\n",
      "Successfully installed numpy-2.1.2 pandas-2.2.3 pytz-2024.2 tzdata-2024.2\n",
      "Note: you may need to restart the kernel to use updated packages.\n"
     ]
    },
    {
     "name": "stderr",
     "output_type": "stream",
     "text": [
      "  WARNING: The scripts f2py.exe and numpy-config.exe are installed in 'c:\\Users\\투정\\AppData\\Local\\Programs\\Python\\Python312\\Scripts' which is not on PATH.\n",
      "  Consider adding this directory to PATH or, if you prefer to suppress this warning, use --no-warn-script-location.\n",
      "\n",
      "[notice] A new release of pip is available: 24.0 -> 24.2\n",
      "[notice] To update, run: python.exe -m pip install --upgrade pip\n"
     ]
    }
   ],
   "source": [
    "%pip install pandas"
   ]
  },
  {
   "cell_type": "code",
   "execution_count": 3,
   "metadata": {},
   "outputs": [
    {
     "name": "stdout",
     "output_type": "stream",
     "text": [
      "Note: you may need to restart the kernel to use updated packages.Collecting pycocotools\n",
      "  Downloading pycocotools-2.0.8-cp312-cp312-win_amd64.whl.metadata (1.1 kB)\n",
      "Collecting matplotlib>=2.1.0 (from pycocotools)\n",
      "  Downloading matplotlib-3.9.2-cp312-cp312-win_amd64.whl.metadata (11 kB)\n",
      "Requirement already satisfied: numpy in c:\\users\\투정\\appdata\\local\\programs\\python\\python312\\lib\\site-packages (from pycocotools) (2.1.2)\n",
      "Collecting contourpy>=1.0.1 (from matplotlib>=2.1.0->pycocotools)\n",
      "  Downloading contourpy-1.3.0-cp312-cp312-win_amd64.whl.metadata (5.4 kB)\n",
      "Collecting cycler>=0.10 (from matplotlib>=2.1.0->pycocotools)\n",
      "  Downloading cycler-0.12.1-py3-none-any.whl.metadata (3.8 kB)\n",
      "Collecting fonttools>=4.22.0 (from matplotlib>=2.1.0->pycocotools)\n",
      "  Downloading fonttools-4.54.1-cp312-cp312-win_amd64.whl.metadata (167 kB)\n",
      "     ---------------------------------------- 0.0/167.0 kB ? eta -:--:--\n",
      "     ------- ------------------------------- 30.7/167.0 kB 1.4 MB/s eta 0:00:01\n",
      "     -------------------------------------  163.8/167.0 kB 2.5 MB/s eta 0:00:01\n",
      "     -------------------------------------- 167.0/167.0 kB 2.0 MB/s eta 0:00:00\n",
      "Collecting kiwisolver>=1.3.1 (from matplotlib>=2.1.0->pycocotools)\n",
      "  Downloading kiwisolver-1.4.7-cp312-cp312-win_amd64.whl.metadata (6.4 kB)\n",
      "Requirement already satisfied: packaging>=20.0 in c:\\users\\투정\\appdata\\roaming\\python\\python312\\site-packages (from matplotlib>=2.1.0->pycocotools) (24.1)\n",
      "Collecting pillow>=8 (from matplotlib>=2.1.0->pycocotools)\n",
      "  Downloading pillow-11.0.0-cp312-cp312-win_amd64.whl.metadata (9.3 kB)\n",
      "Collecting pyparsing>=2.3.1 (from matplotlib>=2.1.0->pycocotools)\n",
      "  Downloading pyparsing-3.2.0-py3-none-any.whl.metadata (5.0 kB)\n",
      "Requirement already satisfied: python-dateutil>=2.7 in c:\\users\\투정\\appdata\\roaming\\python\\python312\\site-packages (from matplotlib>=2.1.0->pycocotools) (2.9.0.post0)\n",
      "Requirement already satisfied: six>=1.5 in c:\\users\\투정\\appdata\\roaming\\python\\python312\\site-packages (from python-dateutil>=2.7->matplotlib>=2.1.0->pycocotools) (1.16.0)\n",
      "Downloading pycocotools-2.0.8-cp312-cp312-win_amd64.whl (83 kB)\n",
      "   ---------------------------------------- 0.0/83.3 kB ? eta -:--:--\n",
      "   ---------------------------------------  81.9/83.3 kB 2.3 MB/s eta 0:00:01\n",
      "   ---------------------------------------- 83.3/83.3 kB 1.6 MB/s eta 0:00:00\n",
      "Downloading matplotlib-3.9.2-cp312-cp312-win_amd64.whl (7.8 MB)\n",
      "   ---------------------------------------- 0.0/7.8 MB ? eta -:--:--\n",
      "    --------------------------------------- 0.1/7.8 MB 3.2 MB/s eta 0:00:03\n",
      "    --------------------------------------- 0.1/7.8 MB 2.4 MB/s eta 0:00:04\n",
      "    --------------------------------------- 0.1/7.8 MB 983.0 kB/s eta 0:00:08\n",
      "    --------------------------------------- 0.1/7.8 MB 983.0 kB/s eta 0:00:08\n",
      "    --------------------------------------- 0.1/7.8 MB 983.0 kB/s eta 0:00:08\n",
      "   - -------------------------------------- 0.3/7.8 MB 1.2 MB/s eta 0:00:07\n",
      "   -- ------------------------------------- 0.5/7.8 MB 1.7 MB/s eta 0:00:05\n",
      "   ---- ----------------------------------- 0.9/7.8 MB 2.6 MB/s eta 0:00:03\n",
      "   ------ --------------------------------- 1.3/7.8 MB 3.2 MB/s eta 0:00:03\n",
      "   -------- ------------------------------- 1.8/7.8 MB 3.8 MB/s eta 0:00:02\n",
      "   ---------- ----------------------------- 2.1/7.8 MB 4.3 MB/s eta 0:00:02\n",
      "   ------------- -------------------------- 2.6/7.8 MB 4.7 MB/s eta 0:00:02\n",
      "   -------------- ------------------------- 2.9/7.8 MB 4.9 MB/s eta 0:00:01\n",
      "   ---------------- ----------------------- 3.3/7.8 MB 5.1 MB/s eta 0:00:01\n",
      "   ------------------ --------------------- 3.7/7.8 MB 5.4 MB/s eta 0:00:01\n",
      "   -------------------- ------------------- 4.0/7.8 MB 5.5 MB/s eta 0:00:01\n",
      "   ---------------------- ----------------- 4.4/7.8 MB 5.6 MB/s eta 0:00:01\n",
      "   ----------------------- ---------------- 4.7/7.8 MB 5.6 MB/s eta 0:00:01\n",
      "   ------------------------- -------------- 5.0/7.8 MB 5.7 MB/s eta 0:00:01\n",
      "   --------------------------- ------------ 5.4/7.8 MB 5.9 MB/s eta 0:00:01\n",
      "   ----------------------------- ---------- 5.7/7.8 MB 6.0 MB/s eta 0:00:01\n",
      "   ------------------------------ --------- 6.0/7.8 MB 5.9 MB/s eta 0:00:01\n",
      "   -------------------------------- ------- 6.3/7.8 MB 6.0 MB/s eta 0:00:01\n",
      "   ---------------------------------- ----- 6.7/7.8 MB 6.1 MB/s eta 0:00:01\n",
      "   ----------------------------------- ---- 7.0/7.8 MB 6.1 MB/s eta 0:00:01\n",
      "   ------------------------------------- -- 7.4/7.8 MB 6.2 MB/s eta 0:00:01\n",
      "   ---------------------------------------  7.8/7.8 MB 6.3 MB/s eta 0:00:01\n",
      "   ---------------------------------------  7.8/7.8 MB 6.3 MB/s eta 0:00:01\n",
      "   ---------------------------------------- 7.8/7.8 MB 5.9 MB/s eta 0:00:00\n",
      "Downloading contourpy-1.3.0-cp312-cp312-win_amd64.whl (218 kB)\n",
      "   ---------------------------------------- 0.0/218.3 kB ? eta -:--:--\n",
      "   ---------------------------------------- 218.3/218.3 kB 6.7 MB/s eta 0:00:00\n",
      "Downloading cycler-0.12.1-py3-none-any.whl (8.3 kB)\n",
      "Downloading fonttools-4.54.1-cp312-cp312-win_amd64.whl (2.2 MB)\n",
      "   ---------------------------------------- 0.0/2.2 MB ? eta -:--:--\n",
      "   ------ --------------------------------- 0.4/2.2 MB 11.2 MB/s eta 0:00:01\n",
      "   ------------- -------------------------- 0.8/2.2 MB 9.6 MB/s eta 0:00:01\n",
      "   -------------------- ------------------- 1.1/2.2 MB 10.2 MB/s eta 0:00:01\n",
      "   ---------------------------- ----------- 1.6/2.2 MB 9.0 MB/s eta 0:00:01\n",
      "   ----------------------------------- ---- 2.0/2.2 MB 9.0 MB/s eta 0:00:01\n",
      "   ---------------------------------------  2.2/2.2 MB 8.7 MB/s eta 0:00:01\n",
      "   ---------------------------------------- 2.2/2.2 MB 7.4 MB/s eta 0:00:00\n",
      "Downloading kiwisolver-1.4.7-cp312-cp312-win_amd64.whl (55 kB)\n",
      "   ---------------------------------------- 0.0/55.9 kB ? eta -:--:--\n",
      "   ---------------------------------------- 55.9/55.9 kB 3.0 MB/s eta 0:00:00\n",
      "Downloading pillow-11.0.0-cp312-cp312-win_amd64.whl (2.6 MB)\n",
      "   ---------------------------------------- 0.0/2.6 MB ? eta -:--:--\n",
      "   ---- ----------------------------------- 0.3/2.6 MB 6.3 MB/s eta 0:00:01\n",
      "   ----------- ---------------------------- 0.7/2.6 MB 7.4 MB/s eta 0:00:01\n",
      "   ----------------- ---------------------- 1.1/2.6 MB 7.8 MB/s eta 0:00:01\n",
      "   ----------------------- ---------------- 1.5/2.6 MB 8.8 MB/s eta 0:00:01\n",
      "   ------------------------------ --------- 2.0/2.6 MB 8.9 MB/s eta 0:00:01\n",
      "   ------------------------------------- -- 2.4/2.6 MB 8.6 MB/s eta 0:00:01\n",
      "   ---------------------------------------  2.6/2.6 MB 8.6 MB/s eta 0:00:01\n",
      "   ---------------------------------------- 2.6/2.6 MB 7.8 MB/s eta 0:00:00\n",
      "Downloading pyparsing-3.2.0-py3-none-any.whl (106 kB)\n",
      "   ---------------------------------------- 0.0/106.9 kB ? eta -:--:--\n",
      "   ---------------------------------------- 106.9/106.9 kB 6.0 MB/s eta 0:00:00\n",
      "Installing collected packages: pyparsing, pillow, kiwisolver, fonttools, cycler, contourpy, matplotlib, pycocotools\n",
      "Successfully installed contourpy-1.3.0 cycler-0.12.1 fonttools-4.54.1 kiwisolver-1.4.7 matplotlib-3.9.2 pillow-11.0.0 pycocotools-2.0.8 pyparsing-3.2.0\n",
      "\n"
     ]
    },
    {
     "name": "stderr",
     "output_type": "stream",
     "text": [
      "  WARNING: The scripts fonttools.exe, pyftmerge.exe, pyftsubset.exe and ttx.exe are installed in 'c:\\Users\\투정\\AppData\\Local\\Programs\\Python\\Python312\\Scripts' which is not on PATH.\n",
      "  Consider adding this directory to PATH or, if you prefer to suppress this warning, use --no-warn-script-location.\n",
      "\n",
      "[notice] A new release of pip is available: 24.0 -> 24.2\n",
      "[notice] To update, run: python.exe -m pip install --upgrade pip\n"
     ]
    }
   ],
   "source": [
    "%pip install pycocotools"
   ]
  },
  {
   "cell_type": "code",
   "execution_count": 1,
   "metadata": {},
   "outputs": [],
   "source": [
    "from pycocotools.coco import COCO\n",
    "import json"
   ]
  },
  {
   "cell_type": "code",
   "execution_count": 11,
   "metadata": {},
   "outputs": [
    {
     "name": "stdout",
     "output_type": "stream",
     "text": [
      "loading annotations into memory...\n",
      "Done (t=0.11s)\n",
      "creating index...\n",
      "index created!\n"
     ]
    }
   ],
   "source": [
    "with open('../dataset/temp_train.json', 'r') as f:\n",
    "    coco_data = json.load(f)\n",
    "\n",
    "coco = COCO('../dataset/temp_train.json')\n",
    "\n",
    "# bbox가 16개 이상인 image_id 목록을 저장할 리스트\n",
    "images_to_remove = []"
   ]
  },
  {
   "cell_type": "code",
   "execution_count": 12,
   "metadata": {},
   "outputs": [],
   "source": [
    "# 모든 image_id에 대한 bbox 개수를 확인\n",
    "for image_id in coco.getImgIds():\n",
    "    ann_ids = coco.getAnnIds(imgIds=image_id)  # 해당 이미지에 대한 어노테이션 ID 목록\n",
    "    if len(ann_ids) >= 16:\n",
    "        images_to_remove.append(image_id)"
   ]
  },
  {
   "cell_type": "code",
   "execution_count": 13,
   "metadata": {},
   "outputs": [],
   "source": [
    "# 기존 JSON 데이터에서 bbox가 16개 이상인 이미지와 관련된 어노테이션 삭제\n",
    "coco_data['annotations'] = [\n",
    "    ann for ann in coco_data['annotations'] if ann['image_id'] not in images_to_remove\n",
    "]\n",
    "\n",
    "# bbox가 16개 이상인 이미지를 images 목록에서 삭제\n",
    "coco_data['images'] = [\n",
    "    img for img in coco_data['images'] if img['id'] not in images_to_remove\n",
    "]"
   ]
  },
  {
   "cell_type": "code",
   "execution_count": 14,
   "metadata": {},
   "outputs": [],
   "source": [
    "# 수정된 COCO 데이터 저장\n",
    "with open('../dataset/updated_train.json', 'w') as f:\n",
    "    json.dump(coco_data, f, indent=4)"
   ]
  }
 ],
 "metadata": {
  "kernelspec": {
   "display_name": "base",
   "language": "python",
   "name": "python3"
  },
  "language_info": {
   "codemirror_mode": {
    "name": "ipython",
    "version": 3
   },
   "file_extension": ".py",
   "mimetype": "text/x-python",
   "name": "python",
   "nbconvert_exporter": "python",
   "pygments_lexer": "ipython3",
   "version": "3.10.13"
  }
 },
 "nbformat": 4,
 "nbformat_minor": 2
}
